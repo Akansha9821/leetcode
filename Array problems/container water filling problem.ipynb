{
 "cells": [
  {
   "cell_type": "code",
   "execution_count": 24,
   "id": "d8f0418d",
   "metadata": {},
   "outputs": [],
   "source": [
    "arr = [4,3,2,1,4]\n",
    "[1,8,6,2,5,4,8,3,7]\n",
    "area = 0\n",
    "temp = 0\n",
    "def testcontainer(arr):\n",
    "    pass\n",
    "testcontainer(arr)"
   ]
  },
  {
   "cell_type": "code",
   "execution_count": 17,
   "id": "d31ef677",
   "metadata": {},
   "outputs": [
    {
     "data": {
      "text/plain": [
       "1"
      ]
     },
     "execution_count": 17,
     "metadata": {},
     "output_type": "execute_result"
    }
   ],
   "source": [
    "1**2"
   ]
  },
  {
   "cell_type": "code",
   "execution_count": 28,
   "id": "babf22f4",
   "metadata": {},
   "outputs": [],
   "source": [
    "arr = [1,8,6,2,5,4,8,3,7]\n"
   ]
  },
  {
   "cell_type": "code",
   "execution_count": null,
   "id": "6301bb89",
   "metadata": {},
   "outputs": [],
   "source": []
  }
 ],
 "metadata": {
  "kernelspec": {
   "display_name": "Python 3 (ipykernel)",
   "language": "python",
   "name": "python3"
  },
  "language_info": {
   "codemirror_mode": {
    "name": "ipython",
    "version": 3
   },
   "file_extension": ".py",
   "mimetype": "text/x-python",
   "name": "python",
   "nbconvert_exporter": "python",
   "pygments_lexer": "ipython3",
   "version": "3.7.0"
  }
 },
 "nbformat": 4,
 "nbformat_minor": 5
}
