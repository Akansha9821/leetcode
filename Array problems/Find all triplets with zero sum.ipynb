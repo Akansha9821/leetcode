{
 "cells": [
  {
   "cell_type": "code",
   "execution_count": 13,
   "id": "1e54afe2",
   "metadata": {},
   "outputs": [
    {
     "name": "stdout",
     "output_type": "stream",
     "text": [
      "0 -1 1\n",
      "0 5 -5\n",
      "-1 -3 4\n",
      "2 -3 1\n",
      "1 -5 4\n"
     ]
    }
   ],
   "source": [
    "l = [0, -1, 2, -3, 1, 5, -5,4]\n",
    "def findtriplates(l, n):\n",
    "    c = False\n",
    "    for i in range(0, n-2):\n",
    "        for j in range(i+1, n-1):\n",
    "            for k in range(j+1, n):\n",
    "                if l[i]+l[j]+l[k] == 0:\n",
    "                    print(l[i], l[j], l[k])\n",
    "                    c = True\n",
    "                    \n",
    "    if c == False:\n",
    "        print(\"not exist\")\n",
    "                \n",
    "findtriplates(l, n=len(l))"
   ]
  },
  {
   "cell_type": "code",
   "execution_count": 16,
   "id": "1140d27a",
   "metadata": {},
   "outputs": [
    {
     "name": "stdout",
     "output_type": "stream",
     "text": [
      "-2 1 1\n"
     ]
    }
   ],
   "source": [
    "def withsort(arr, n):\n",
    "    flag = False\n",
    "    arr.sort()\n",
    "    \n",
    "    for i in range(0, n-1):\n",
    "        l = i+1\n",
    "        r = n-1\n",
    "        x = arr[i]\n",
    "        \n",
    "        while l < r:\n",
    "            if (x+arr[l]+arr[r] == 0):\n",
    "                print(x, arr[l], arr[r])\n",
    "                \n",
    "                l += 1\n",
    "                r -=1\n",
    "                flag = True\n",
    "                \n",
    "            elif (x+arr[l]+arr[r]<0):\n",
    "                l += 1\n",
    "                \n",
    "            else:\n",
    "                r -= 1\n",
    "                \n",
    "        if flag == False:\n",
    "            print(\"not exist\")\n",
    "                \n",
    "                \n",
    "    \n",
    "    \n",
    "arr = [1, -2, 1, 0, 5]\n",
    "n = len(arr)\n",
    "withsort(arr, n)"
   ]
  },
  {
   "cell_type": "code",
   "execution_count": null,
   "id": "14d8874d",
   "metadata": {},
   "outputs": [],
   "source": []
  }
 ],
 "metadata": {
  "kernelspec": {
   "display_name": "Python 3 (ipykernel)",
   "language": "python",
   "name": "python3"
  },
  "language_info": {
   "codemirror_mode": {
    "name": "ipython",
    "version": 3
   },
   "file_extension": ".py",
   "mimetype": "text/x-python",
   "name": "python",
   "nbconvert_exporter": "python",
   "pygments_lexer": "ipython3",
   "version": "3.7.0"
  }
 },
 "nbformat": 4,
 "nbformat_minor": 5
}
