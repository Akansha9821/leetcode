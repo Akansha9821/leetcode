{
 "cells": [
  {
   "cell_type": "code",
   "execution_count": 7,
   "id": "7a7f952b",
   "metadata": {},
   "outputs": [],
   "source": [
    "nums = [1,4,3,2]"
   ]
  },
  {
   "cell_type": "code",
   "execution_count": 16,
   "id": "b975d442",
   "metadata": {},
   "outputs": [
    {
     "name": "stdout",
     "output_type": "stream",
     "text": [
      "+++++++++++++++++++++ 1\n",
      "1\n",
      "+++++++++++++++++++++ 3\n",
      "4\n",
      "4\n"
     ]
    }
   ],
   "source": [
    "class Solution:\n",
    "    def arrayPairSum(self, nums):\n",
    "        c = 0 \n",
    "        nums.sort()\n",
    "        l = len(nums)\n",
    "        for i in range(0, l, 2):\n",
    "            print('+++++++++++++++++++++',nums[i])\n",
    "            c += nums[i]\n",
    "        return c\n",
    "    \n",
    "ob1 = Solution()\n",
    "print(ob1.arrayPairSum([1,4,3,2]))"
   ]
  },
  {
   "cell_type": "code",
   "execution_count": null,
   "id": "263540ca",
   "metadata": {},
   "outputs": [],
   "source": []
  },
  {
   "cell_type": "code",
   "execution_count": null,
   "id": "a7171c6d",
   "metadata": {},
   "outputs": [],
   "source": []
  }
 ],
 "metadata": {
  "kernelspec": {
   "display_name": "Python 3 (ipykernel)",
   "language": "python",
   "name": "python3"
  },
  "language_info": {
   "codemirror_mode": {
    "name": "ipython",
    "version": 3
   },
   "file_extension": ".py",
   "mimetype": "text/x-python",
   "name": "python",
   "nbconvert_exporter": "python",
   "pygments_lexer": "ipython3",
   "version": "3.7.0"
  }
 },
 "nbformat": 4,
 "nbformat_minor": 5
}
